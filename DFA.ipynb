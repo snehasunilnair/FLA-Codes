{
 "cells": [
  {
   "cell_type": "markdown",
   "source": [
    "# DFA PROGRAMS:\r\n",
    "1. Automata code for the Language that accepts all and only those strings that contains 001\r\n",
    "2. Automata code for L(M) ={ w | w has an even number of 1s}\r\n",
    "3. Automata code for L(M) ={0,1}*\r\n",
    "4. Automata code for L(M)=a + aa*b.\r\n",
    "5. Automata code for L(M)={(ab) n | n  N}\r\n",
    "6. Automata code for Let Σ = {0, 1}.\r\n",
    "\r\n",
    "Given DFAs for {}, {ε}, Σ * , and Σ + ."
   ],
   "metadata": {}
  },
  {
   "cell_type": "code",
   "execution_count": 1,
   "source": [
    "#1st\r\n",
    "from automata.fa.dfa import DFA\r\n",
    "dfa = DFA(\r\n",
    "    states={'q0', 'q1', 'q2', 'q3'},\r\n",
    "    input_symbols={'0', '1'},\r\n",
    "    transitions={\r\n",
    "        'q0': {'0': 'q1', '1': 'q0'},\r\n",
    "        'q1': {'0': 'q2', '1': 'q0'},\r\n",
    "        'q2': {'0': 'q2', '1': 'q3'},\r\n",
    "        'q3': {'0': 'q3', '1': 'q3'}\r\n",
    "    },\r\n",
    "    initial_state='q0',\r\n",
    "    final_states={'q3'}\r\n",
    ")\r\n",
    "for i in range(1,4):\r\n",
    "    num = input(\"Enter the string :\")\r\n",
    "    if(dfa.accepts_input(num)):\r\n",
    "        print(\"Accepted\")\r\n",
    "    else:\r\n",
    "        print(\"Rejected\")"
   ],
   "outputs": [
    {
     "output_type": "stream",
     "name": "stdout",
     "text": [
      "Enter the string :0001\n",
      "Accepted\n",
      "Enter the string :1001\n",
      "Accepted\n",
      "Enter the string :1011\n",
      "Rejected\n"
     ]
    }
   ],
   "metadata": {}
  },
  {
   "cell_type": "code",
   "execution_count": 2,
   "source": [
    "#2nd\r\n",
    "from automata.fa.dfa import DFA\r\n",
    "dfa = DFA(\r\n",
    "    states={'q0', 'q1', 'q2'},\r\n",
    "    input_symbols={'0', '1'},\r\n",
    "    transitions={\r\n",
    "        'q0': {'0': 'q0', '1': 'q1'},\r\n",
    "        'q1': {'0': 'q1', '1': 'q2'},\r\n",
    "        'q2': {'0': 'q2', '1': 'q1'}\r\n",
    "    },\r\n",
    "    initial_state='q0',\r\n",
    "    final_states={'q2'}\r\n",
    ")\r\n",
    "for i in range(1,4):\r\n",
    "    num = input(\"Enter the string :\")\r\n",
    "    if(dfa.accepts_input(num)):\r\n",
    "        print(\"Accepted\")\r\n",
    "    else:\r\n",
    "        print(\"Rejected\")"
   ],
   "outputs": [
    {
     "output_type": "stream",
     "name": "stdout",
     "text": [
      "Enter the string :1111\n",
      "Accepted\n",
      "Enter the string :0101\n",
      "Accepted\n",
      "Enter the string :1110\n",
      "Rejected\n"
     ]
    }
   ],
   "metadata": {}
  },
  {
   "cell_type": "code",
   "execution_count": 3,
   "source": [
    "#3rd\r\n",
    "from automata.fa.dfa import DFA\r\n",
    "dfa = DFA(\r\n",
    "    states={'q0'},\r\n",
    "    input_symbols={'0', '1'},\r\n",
    "    transitions={\r\n",
    "        'q0': {'0': 'q0', '1': 'q0'}\r\n",
    "    },\r\n",
    "    initial_state='q0',\r\n",
    "    final_states={'q0'}\r\n",
    ")\r\n",
    "for i in range(1,8):\r\n",
    "    num = input(\"Enter the string :\")\r\n",
    "    if(dfa.accepts_input(num)):\r\n",
    "        print(\"Accepted\")\r\n",
    "    else:\r\n",
    "        print(\"Rejected\")"
   ],
   "outputs": [
    {
     "output_type": "stream",
     "name": "stdout",
     "text": [
      "Enter the string :01\n",
      "Accepted\n",
      "Enter the string :001\n",
      "Accepted\n",
      "Enter the string :0\n",
      "Accepted\n",
      "Enter the string :0011\n",
      "Accepted\n",
      "Enter the string :1001\n",
      "Accepted\n",
      "Enter the string :011\n",
      "Accepted\n",
      "Enter the string :10011\n",
      "Accepted\n"
     ]
    }
   ],
   "metadata": {}
  },
  {
   "cell_type": "code",
   "execution_count": 4,
   "source": [
    "#4th\r\n",
    "from automata.fa.dfa import DFA\r\n",
    "dfa = DFA(\r\n",
    "    states={'q0', 'q1', 'q2', 'q3', 'q4', 'q5'},\r\n",
    "    input_symbols={'a', 'b'},\r\n",
    "    transitions={\r\n",
    "        'q0': {'a': 'q1', 'b': 'q5'},\r\n",
    "        'q1': {'a': 'q2', 'b': 'q5'},\r\n",
    "        'q2': {'a': 'q3', 'b': 'q4'},\r\n",
    "        'q3': {'a': 'q2', 'b': 'q5'},\r\n",
    "        'q4': {'a': 'q5', 'b': 'q5'},\r\n",
    "        'q5': {'a': 'q5', 'b': 'q5'}\r\n",
    "    },\r\n",
    "    initial_state='q0',\r\n",
    "    final_states={'q1', 'q4'}\r\n",
    ")\r\n",
    "for i in range(1,6):\r\n",
    "    num = input(\"Enter the string :\")\r\n",
    "    if(dfa.accepts_input(num)):\r\n",
    "        print(\"Accepted\")\r\n",
    "    else:\r\n",
    "        print(\"Rejected\")"
   ],
   "outputs": [
    {
     "output_type": "stream",
     "name": "stdout",
     "text": [
      "Enter the string :a\n",
      "Accepted\n",
      "Enter the string :ab\n",
      "Rejected\n",
      "Enter the string :aab\n",
      "Accepted\n",
      "Enter the string :aaaab\n",
      "Accepted\n",
      "Enter the string :baaaab\n",
      "Rejected\n"
     ]
    }
   ],
   "metadata": {}
  },
  {
   "cell_type": "code",
   "execution_count": 5,
   "source": [
    "#5th\r\n",
    "from automata.fa.dfa import DFA\r\n",
    "dfa = DFA(\r\n",
    "    states={'q0', 'q1', 'q2', 'q3'},\r\n",
    "    input_symbols={'a', 'b'},\r\n",
    "    transitions={\r\n",
    "        'q0': {'a': 'q1', 'b': 'q3'},\r\n",
    "        'q1': {'a': 'q3', 'b': 'q2'},\r\n",
    "        'q2': {'a': 'q1', 'b': 'q3'},\r\n",
    "        'q3': {'a': 'q3', 'b': 'q3'}\r\n",
    "    },\r\n",
    "    initial_state='q0',\r\n",
    "    final_states={'q2'}\r\n",
    ")\r\n",
    "for i in range(1,6):\r\n",
    "    num = input(\"Enter the string :\")\r\n",
    "    if(dfa.accepts_input(num)):\r\n",
    "        print(\"Accepted\")\r\n",
    "    else:\r\n",
    "        print(\"Rejected\")"
   ],
   "outputs": [
    {
     "output_type": "stream",
     "name": "stdout",
     "text": [
      "Enter the string :ab\n",
      "Accepted\n",
      "Enter the string :abab\n",
      "Accepted\n",
      "Enter the string :baba\n",
      "Rejected\n",
      "Enter the string :aaabbb\n",
      "Rejected\n",
      "Enter the string :ababab\n",
      "Accepted\n"
     ]
    }
   ],
   "metadata": {}
  },
  {
   "cell_type": "markdown",
   "source": [
    "## 6th - 4 sections\n",
    "* { }  --  ( null set ) \n",
    "* { ε } -- Accepts only null character \n",
    "* Σ * -- accepts all combinations of ‘1’ and ‘0’ including null string \n",
    "* Σ + -- accepts all combinations of ‘1’ and ‘0’ excluding null string \n"
   ],
   "metadata": {}
  },
  {
   "cell_type": "code",
   "execution_count": 6,
   "source": [
    "#6.1\r\n",
    "from automata.fa.dfa import DFA\r\n",
    "dfa = DFA(\r\n",
    "    states={'q0', 'q1'},\r\n",
    "    input_symbols={'0', '1'},\r\n",
    "    transitions={\r\n",
    "        'q0': {'0': 'q0', '1': 'q0'},\r\n",
    "        'q1': {'0': 'q1', '1': 'q1'}\r\n",
    "    },\r\n",
    "    initial_state='q0',\r\n",
    "    final_states={'q1'}\r\n",
    ")\r\n",
    "for i in range(1,8):\r\n",
    "    num = input(\"Enter the string :\")\r\n",
    "    if(dfa.accepts_input(num)):\r\n",
    "        print(\"Accepted\")\r\n",
    "    else:\r\n",
    "        print(\"Rejected\")\r\n"
   ],
   "outputs": [
    {
     "output_type": "stream",
     "name": "stdout",
     "text": [
      "Enter the string :1\n",
      "Rejected\n",
      "Enter the string :01\n",
      "Rejected\n",
      "Enter the string :\n",
      "Rejected\n",
      "Enter the string :001\n",
      "Rejected\n",
      "Enter the string :00011\n",
      "Rejected\n",
      "Enter the string :00011\n",
      "Rejected\n",
      "Enter the string :0011\n",
      "Rejected\n"
     ]
    }
   ],
   "metadata": {}
  },
  {
   "cell_type": "code",
   "execution_count": 7,
   "source": [
    "#6.2\r\n",
    "from automata.fa.dfa import DFA\r\n",
    "dfa = DFA(\r\n",
    "    states={'q0', 'q1'},\r\n",
    "    input_symbols={'0', '1'},\r\n",
    "    transitions={\r\n",
    "        'q0': {'0': 'q1', '1': 'q1'},\r\n",
    "        'q1': {'0': 'q1', '1': 'q1'}\r\n",
    "    },\r\n",
    "    initial_state='q0',\r\n",
    "    final_states={'q0'}\r\n",
    ")\r\n",
    "for i in range(1,6):\r\n",
    "    num = input(\"Enter the string :\")\r\n",
    "    if(dfa.accepts_input(num)):\r\n",
    "        print(\"Accepted\")\r\n",
    "    else:\r\n",
    "        print(\"Rejected\")"
   ],
   "outputs": [
    {
     "output_type": "stream",
     "name": "stdout",
     "text": [
      "Enter the string :00\n",
      "Rejected\n",
      "Enter the string :101\n",
      "Rejected\n",
      "Enter the string :1011\n",
      "Rejected\n",
      "Enter the string :\n",
      "Accepted\n",
      "Enter the string :100101\n",
      "Rejected\n"
     ]
    }
   ],
   "metadata": {}
  },
  {
   "cell_type": "code",
   "execution_count": 8,
   "source": [
    "#6.3\r\n",
    "from automata.fa.dfa import DFA\r\n",
    "dfa = DFA(\r\n",
    "    states={'q0'},\r\n",
    "    input_symbols={'0', '1'},\r\n",
    "    transitions={\r\n",
    "        'q0': {'0': 'q0', '1': 'q0'}\r\n",
    "    },\r\n",
    "    initial_state='q0',\r\n",
    "    final_states={'q0'}\r\n",
    ")\r\n",
    "for i in range(1,8):\r\n",
    "    num = input(\"Enter the string :\")\r\n",
    "    if(dfa.accepts_input(num)):\r\n",
    "        print(\"Accepted\")\r\n",
    "    else:\r\n",
    "        print(\"Rejected\")"
   ],
   "outputs": [
    {
     "output_type": "stream",
     "name": "stdout",
     "text": [
      "Enter the string :00\n",
      "Accepted\n",
      "Enter the string :011\n",
      "Accepted\n",
      "Enter the string :101\n",
      "Accepted\n",
      "Enter the string :\n",
      "Accepted\n",
      "Enter the string :11010\n",
      "Accepted\n",
      "Enter the string :1100\n",
      "Accepted\n",
      "Enter the string :001\n",
      "Accepted\n"
     ]
    }
   ],
   "metadata": {}
  },
  {
   "cell_type": "code",
   "execution_count": 9,
   "source": [
    "#6.4\r\n",
    "from automata.fa.dfa import DFA\r\n",
    "dfa = DFA(\r\n",
    "    states={'q0', 'q1'},\r\n",
    "    input_symbols={'0', '1'},\r\n",
    "    transitions={\r\n",
    "        'q0': {'0': 'q1', '1': 'q1'},\r\n",
    "        'q1': {'0': 'q1', '1': 'q1'}\r\n",
    "    },\r\n",
    "    initial_state='q0',\r\n",
    "    final_states={'q1'}\r\n",
    ")\r\n",
    "for i in range(1,8):\r\n",
    "    num = input(\"Enter the string :\")\r\n",
    "    if(dfa.accepts_input(num)):\r\n",
    "        print(\"Accepted\")\r\n",
    "    else:\r\n",
    "        print(\"Rejected\")\r\n"
   ],
   "outputs": [
    {
     "output_type": "stream",
     "name": "stdout",
     "text": [
      "Enter the string :\n",
      "Rejected\n",
      "Enter the string :01\n",
      "Accepted\n",
      "Enter the string :1001\n",
      "Accepted\n",
      "Enter the string :1101\n",
      "Accepted\n",
      "Enter the string :1111\n",
      "Accepted\n",
      "Enter the string :0\n",
      "Accepted\n",
      "Enter the string :01\n",
      "Accepted\n"
     ]
    }
   ],
   "metadata": {}
  },
  {
   "cell_type": "code",
   "execution_count": null,
   "source": [],
   "outputs": [],
   "metadata": {}
  }
 ],
 "metadata": {
  "kernelspec": {
   "display_name": "Python 3",
   "language": "python",
   "name": "python3"
  },
  "language_info": {
   "codemirror_mode": {
    "name": "ipython",
    "version": 3
   },
   "file_extension": ".py",
   "mimetype": "text/x-python",
   "name": "python",
   "nbconvert_exporter": "python",
   "pygments_lexer": "ipython3",
   "version": "3.8.5"
  }
 },
 "nbformat": 4,
 "nbformat_minor": 4
}